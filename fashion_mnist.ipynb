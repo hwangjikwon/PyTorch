{
  "nbformat": 4,
  "nbformat_minor": 0,
  "metadata": {
    "colab": {
      "provenance": [],
      "gpuType": "T4",
      "authorship_tag": "ABX9TyONrVt3kSrMK909xEHolLXz",
      "include_colab_link": true
    },
    "kernelspec": {
      "name": "python3",
      "display_name": "Python 3"
    },
    "language_info": {
      "name": "python"
    },
    "accelerator": "GPU"
  },
  "cells": [
    {
      "cell_type": "markdown",
      "metadata": {
        "id": "view-in-github",
        "colab_type": "text"
      },
      "source": [
        "<a href=\"https://colab.research.google.com/github/hwangjikwon/PyTorch/blob/master/fashion_mnist.ipynb\" target=\"_parent\"><img src=\"https://colab.research.google.com/assets/colab-badge.svg\" alt=\"Open In Colab\"/></a>"
      ]
    },
    {
      "cell_type": "code",
      "execution_count": 1,
      "metadata": {
        "id": "cmz3yaiB32h7"
      },
      "outputs": [],
      "source": [
        "import numpy as np\n",
        "import matplotlib.pyplot as plt\n",
        "\n",
        "import torch\n",
        "import torch.nn as nn\n",
        "from torch.autograd import Variable\n",
        "import torch.nn.functional as F\n",
        "\n",
        "import torchvision\n",
        "import torchvision.transforms as transforms # Library for Data Preprocessing\n",
        "from torch.utils.data import Dataset, DataLoader"
      ]
    },
    {
      "cell_type": "code",
      "source": [
        "device = torch.device(\"cuda:0\" if torch.cuda.is_available() else \"cpu\")"
      ],
      "metadata": {
        "id": "Iu-nEyJI4MHc"
      },
      "execution_count": 2,
      "outputs": []
    },
    {
      "cell_type": "code",
      "source": [
        "from google.colab import drive\n",
        "drive.mount('/content/drive')"
      ],
      "metadata": {
        "colab": {
          "base_uri": "https://localhost:8080/"
        },
        "id": "kKxkEs2u4YPf",
        "outputId": "c6c02614-1be9-46bc-ea62-ae8c18d9cba1"
      },
      "execution_count": 5,
      "outputs": [
        {
          "output_type": "stream",
          "name": "stdout",
          "text": [
            "Mounted at /content/drive\n"
          ]
        }
      ]
    },
    {
      "cell_type": "code",
      "source": [
        "!pwd"
      ],
      "metadata": {
        "colab": {
          "base_uri": "https://localhost:8080/"
        },
        "id": "QzKLnhLi6WXz",
        "outputId": "21b92395-d601-40e4-ee44-5283f3beb164"
      },
      "execution_count": 9,
      "outputs": [
        {
          "output_type": "stream",
          "name": "stdout",
          "text": [
            "/content\n"
          ]
        }
      ]
    },
    {
      "cell_type": "code",
      "source": [
        "train_dataset = torchvision.datasets.FashionMNIST(\"../MyDrive/nlpbook/CNN\", download=True,\n",
        "                                                  transform=transforms.Compose([transforms.ToTensor()]))"
      ],
      "metadata": {
        "colab": {
          "base_uri": "https://localhost:8080/"
        },
        "id": "A_Th6Epx4ZpA",
        "outputId": "82eaa06b-c127-4fc6-b936-4640e49f6b4a"
      },
      "execution_count": 6,
      "outputs": [
        {
          "output_type": "stream",
          "name": "stdout",
          "text": [
            "Downloading http://fashion-mnist.s3-website.eu-central-1.amazonaws.com/train-images-idx3-ubyte.gz\n",
            "Downloading http://fashion-mnist.s3-website.eu-central-1.amazonaws.com/train-images-idx3-ubyte.gz to ../MyDrive/nlpbook/CNN/FashionMNIST/raw/train-images-idx3-ubyte.gz\n"
          ]
        },
        {
          "output_type": "stream",
          "name": "stderr",
          "text": [
            "100%|██████████| 26421880/26421880 [00:02<00:00, 10091095.25it/s]\n"
          ]
        },
        {
          "output_type": "stream",
          "name": "stdout",
          "text": [
            "Extracting ../MyDrive/nlpbook/CNN/FashionMNIST/raw/train-images-idx3-ubyte.gz to ../MyDrive/nlpbook/CNN/FashionMNIST/raw\n",
            "\n",
            "Downloading http://fashion-mnist.s3-website.eu-central-1.amazonaws.com/train-labels-idx1-ubyte.gz\n",
            "Downloading http://fashion-mnist.s3-website.eu-central-1.amazonaws.com/train-labels-idx1-ubyte.gz to ../MyDrive/nlpbook/CNN/FashionMNIST/raw/train-labels-idx1-ubyte.gz\n"
          ]
        },
        {
          "output_type": "stream",
          "name": "stderr",
          "text": [
            "100%|██████████| 29515/29515 [00:00<00:00, 170748.74it/s]\n"
          ]
        },
        {
          "output_type": "stream",
          "name": "stdout",
          "text": [
            "Extracting ../MyDrive/nlpbook/CNN/FashionMNIST/raw/train-labels-idx1-ubyte.gz to ../MyDrive/nlpbook/CNN/FashionMNIST/raw\n",
            "\n",
            "Downloading http://fashion-mnist.s3-website.eu-central-1.amazonaws.com/t10k-images-idx3-ubyte.gz\n",
            "Downloading http://fashion-mnist.s3-website.eu-central-1.amazonaws.com/t10k-images-idx3-ubyte.gz to ../MyDrive/nlpbook/CNN/FashionMNIST/raw/t10k-images-idx3-ubyte.gz\n"
          ]
        },
        {
          "output_type": "stream",
          "name": "stderr",
          "text": [
            "100%|██████████| 4422102/4422102 [00:01<00:00, 3172677.92it/s]\n"
          ]
        },
        {
          "output_type": "stream",
          "name": "stdout",
          "text": [
            "Extracting ../MyDrive/nlpbook/CNN/FashionMNIST/raw/t10k-images-idx3-ubyte.gz to ../MyDrive/nlpbook/CNN/FashionMNIST/raw\n",
            "\n",
            "Downloading http://fashion-mnist.s3-website.eu-central-1.amazonaws.com/t10k-labels-idx1-ubyte.gz\n",
            "Downloading http://fashion-mnist.s3-website.eu-central-1.amazonaws.com/t10k-labels-idx1-ubyte.gz to ../MyDrive/nlpbook/CNN/FashionMNIST/raw/t10k-labels-idx1-ubyte.gz\n"
          ]
        },
        {
          "output_type": "stream",
          "name": "stderr",
          "text": [
            "100%|██████████| 5148/5148 [00:00<00:00, 6422450.03it/s]"
          ]
        },
        {
          "output_type": "stream",
          "name": "stdout",
          "text": [
            "Extracting ../MyDrive/nlpbook/CNN/FashionMNIST/raw/t10k-labels-idx1-ubyte.gz to ../MyDrive/nlpbook/CNN/FashionMNIST/raw\n",
            "\n"
          ]
        },
        {
          "output_type": "stream",
          "name": "stderr",
          "text": [
            "\n"
          ]
        }
      ]
    },
    {
      "cell_type": "code",
      "source": [
        "test_dataset = torchvision.datasets.FashionMNIST(\"../drive/MyDrive/nlpbook/CNN\", download=True, train=False,\n",
        "                                                  transform=transforms.Compose([transforms.ToTensor()]))"
      ],
      "metadata": {
        "colab": {
          "base_uri": "https://localhost:8080/"
        },
        "id": "yMTSGs3Q5z4j",
        "outputId": "084697a0-a797-4133-f24c-dffa394ca773"
      },
      "execution_count": 12,
      "outputs": [
        {
          "output_type": "stream",
          "name": "stdout",
          "text": [
            "Downloading http://fashion-mnist.s3-website.eu-central-1.amazonaws.com/train-images-idx3-ubyte.gz\n",
            "Downloading http://fashion-mnist.s3-website.eu-central-1.amazonaws.com/train-images-idx3-ubyte.gz to ../drive/MyDrive/nlpbook/CNN/FashionMNIST/raw/train-images-idx3-ubyte.gz\n"
          ]
        },
        {
          "output_type": "stream",
          "name": "stderr",
          "text": [
            "100%|██████████| 26421880/26421880 [00:02<00:00, 9409314.18it/s] \n"
          ]
        },
        {
          "output_type": "stream",
          "name": "stdout",
          "text": [
            "Extracting ../drive/MyDrive/nlpbook/CNN/FashionMNIST/raw/train-images-idx3-ubyte.gz to ../drive/MyDrive/nlpbook/CNN/FashionMNIST/raw\n",
            "\n",
            "Downloading http://fashion-mnist.s3-website.eu-central-1.amazonaws.com/train-labels-idx1-ubyte.gz\n",
            "Downloading http://fashion-mnist.s3-website.eu-central-1.amazonaws.com/train-labels-idx1-ubyte.gz to ../drive/MyDrive/nlpbook/CNN/FashionMNIST/raw/train-labels-idx1-ubyte.gz\n"
          ]
        },
        {
          "output_type": "stream",
          "name": "stderr",
          "text": [
            "100%|██████████| 29515/29515 [00:00<00:00, 172409.07it/s]\n"
          ]
        },
        {
          "output_type": "stream",
          "name": "stdout",
          "text": [
            "Extracting ../drive/MyDrive/nlpbook/CNN/FashionMNIST/raw/train-labels-idx1-ubyte.gz to ../drive/MyDrive/nlpbook/CNN/FashionMNIST/raw\n",
            "\n",
            "Downloading http://fashion-mnist.s3-website.eu-central-1.amazonaws.com/t10k-images-idx3-ubyte.gz\n",
            "Downloading http://fashion-mnist.s3-website.eu-central-1.amazonaws.com/t10k-images-idx3-ubyte.gz to ../drive/MyDrive/nlpbook/CNN/FashionMNIST/raw/t10k-images-idx3-ubyte.gz\n"
          ]
        },
        {
          "output_type": "stream",
          "name": "stderr",
          "text": [
            "100%|██████████| 4422102/4422102 [00:01<00:00, 3202757.05it/s]\n"
          ]
        },
        {
          "output_type": "stream",
          "name": "stdout",
          "text": [
            "Extracting ../drive/MyDrive/nlpbook/CNN/FashionMNIST/raw/t10k-images-idx3-ubyte.gz to ../drive/MyDrive/nlpbook/CNN/FashionMNIST/raw\n",
            "\n",
            "Downloading http://fashion-mnist.s3-website.eu-central-1.amazonaws.com/t10k-labels-idx1-ubyte.gz\n",
            "Downloading http://fashion-mnist.s3-website.eu-central-1.amazonaws.com/t10k-labels-idx1-ubyte.gz to ../drive/MyDrive/nlpbook/CNN/FashionMNIST/raw/t10k-labels-idx1-ubyte.gz\n"
          ]
        },
        {
          "output_type": "stream",
          "name": "stderr",
          "text": [
            "100%|██████████| 5148/5148 [00:00<00:00, 5793473.84it/s]"
          ]
        },
        {
          "output_type": "stream",
          "name": "stdout",
          "text": [
            "Extracting ../drive/MyDrive/nlpbook/CNN/FashionMNIST/raw/t10k-labels-idx1-ubyte.gz to ../drive/MyDrive/nlpbook/CNN/FashionMNIST/raw\n",
            "\n"
          ]
        },
        {
          "output_type": "stream",
          "name": "stderr",
          "text": [
            "\n"
          ]
        }
      ]
    },
    {
      "cell_type": "code",
      "source": [
        "train_loader = torch.utils.data.DataLoader(train_dataset, batch_size=100)\n",
        "test_loader = torch.utils.data.DataLoader(test_dataset, batch_size=100)"
      ],
      "metadata": {
        "id": "omPVmljK6f9X"
      },
      "execution_count": 13,
      "outputs": []
    },
    {
      "cell_type": "code",
      "source": [
        "labels_map = {0: 'T-Shirt', 1: 'Trouser', 2: 'Pullover', 3: 'Dress', 4: 'Coat', 5: 'Sandal', 6: 'Shirt', 7: 'Sneaker',\n",
        "              8: 'Bag', 9: 'Ankle Boot'} # ten classes\n",
        "\n",
        "fig = plt.figure(figsize=(8,8));\n",
        "columns = 4;\n",
        "rows = 5;\n",
        "\n",
        "for i in range(1, columns*rows+1) :\n",
        "  img_xy = np.random.randint(len(train_dataset)); # random number between 0 ~ 60,000(len of 'train_dataset')\n",
        "  img = train_dataset[img_xy][0][0,:,:]\n",
        "  fig.add_subplot(rows, columns, i)\n",
        "  plt.title(labels_map[train_dataset[img_xy][1]])\n",
        "  plt.axis('off')\n",
        "  plt.imshow(img, cmap='gray')\n",
        "\n",
        "plt.show() # display twenty image data"
      ],
      "metadata": {
        "colab": {
          "base_uri": "https://localhost:8080/",
          "height": 675
        },
        "id": "k6F8_p-_7Jh3",
        "outputId": "08de3585-13e3-4870-894f-f54379263037"
      },
      "execution_count": 14,
      "outputs": [
        {
          "output_type": "display_data",
          "data": {
            "text/plain": [
              "<Figure size 800x800 with 20 Axes>"
            ],
            "image/png": "[encoded data removed]"
          },
          "metadata": {}
        }
      ]
    },
    {
      "cell_type": "code",
      "source": [
        "train_dataset[img_xy][0][0:,:,]"
      ],
      "metadata": {
        "colab": {
          "base_uri": "https://localhost:8080/"
        },
        "id": "iDYZTmvm82cf",
        "outputId": "6e6c7367-a73b-4bca-ac51-ed13691dde4a"
      },
      "execution_count": 18,
      "outputs": [
        {
          "output_type": "execute_result",
          "data": {
            "text/plain": [
              "tensor([[[0.0000, 0.0000, 0.0000, 0.0000, 0.0000, 0.0000, 0.0000, 0.0000,\n",
              "          0.0000, 0.0000, 0.0000, 0.0000, 0.0000, 0.0000, 0.0000, 0.0000,\n",
              "          0.0000, 0.0000, 0.0000, 0.0000, 0.0000, 0.0000, 0.0000, 0.0000,\n",
              "          0.0000, 0.0000, 0.0000, 0.0000],\n",
              "         [0.0000, 0.0000, 0.0000, 0.0000, 0.0000, 0.0000, 0.0000, 0.0000,\n",
              "          0.0000, 0.0000, 0.0000, 0.0000, 0.0000, 0.0000, 0.0000, 0.0000,\n",
              "          0.0000, 0.0000, 0.0000, 0.0000, 0.0000, 0.0000, 0.0000, 0.0000,\n",
              "          0.0000, 0.0000, 0.0000, 0.0000],\n",
              "         [0.0000, 0.0000, 0.0000, 0.0000, 0.0000, 0.0000, 0.0000, 0.0000,\n",
              "          0.0000, 0.0000, 0.0000, 0.0000, 0.0000, 0.0000, 0.0196, 0.0000,\n",
              "          0.2824, 0.2863, 0.0000, 0.0000, 0.0118, 0.0000, 0.0039, 0.0118,\n",
              "          0.0118, 0.0000, 0.0000, 0.0000],\n",
              "         [0.0000, 0.0000, 0.0000, 0.0000, 0.0000, 0.0000, 0.0000, 0.0000,\n",
              "          0.0000, 0.0000, 0.0000, 0.0000, 0.0000, 0.0000, 0.0000, 0.0000,\n",
              "          0.5373, 0.8941, 0.5255, 0.0000, 0.0000, 0.0000, 0.0000, 0.0000,\n",
              "          0.0000, 0.0039, 0.0078, 0.0000],\n",
              "         [0.0000, 0.0000, 0.0000, 0.0000, 0.0000, 0.0000, 0.0000, 0.0000,\n",
              "          0.0000, 0.0000, 0.0000, 0.0000, 0.0000, 0.0039, 0.0000, 0.0000,\n",
              "          0.6196, 0.8902, 0.9059, 0.8667, 0.7765, 0.6000, 0.4275, 0.2078,\n",
              "          0.0000, 0.0000, 0.0000, 0.0000],\n",
              "         [0.0000, 0.0000, 0.0000, 0.0000, 0.0000, 0.0000, 0.0000, 0.0000,\n",
              "          0.0000, 0.0000, 0.0000, 0.0000, 0.0000, 0.0078, 0.0000, 0.0000,\n",
              "          0.7529, 0.8314, 0.9294, 0.9569, 0.9647, 0.9373, 0.9137, 0.8824,\n",
              "          0.7725, 0.4902, 0.0000, 0.0000],\n",
              "         [0.0000, 0.0000, 0.0000, 0.0000, 0.0000, 0.0000, 0.0000, 0.0000,\n",
              "          0.0000, 0.0000, 0.0000, 0.0000, 0.0000, 0.0000, 0.0000, 0.3059,\n",
              "          0.7373, 0.5373, 0.5333, 0.9725, 0.8745, 0.8667, 0.8157, 0.7529,\n",
              "          0.7922, 0.8196, 0.0000, 0.0000],\n",
              "         [0.0000, 0.0000, 0.0000, 0.0000, 0.0000, 0.0000, 0.0000, 0.0000,\n",
              "          0.0000, 0.0000, 0.0000, 0.0000, 0.0000, 0.0000, 0.0000, 0.6157,\n",
              "          0.8941, 1.0000, 0.8784, 0.8000, 0.7882, 0.8667, 0.8353, 0.7451,\n",
              "          0.7961, 0.4824, 0.0000, 0.0000],\n",
              "         [0.0000, 0.0000, 0.0000, 0.0000, 0.0000, 0.0000, 0.0000, 0.0000,\n",
              "          0.0000, 0.0000, 0.0000, 0.0000, 0.0039, 0.0000, 0.0000, 0.5216,\n",
              "          0.8471, 0.6353, 0.8039, 0.7686, 0.8000, 0.8275, 0.8235, 0.7059,\n",
              "          0.9294, 0.3529, 0.0000, 0.0000],\n",
              "         [0.0000, 0.0000, 0.0000, 0.0000, 0.0000, 0.0000, 0.0000, 0.0000,\n",
              "          0.0000, 0.0000, 0.0000, 0.0000, 0.0039, 0.0000, 0.1608, 0.9765,\n",
              "          0.8431, 0.7451, 0.9059, 0.8157, 0.8627, 0.8863, 0.8157, 0.7059,\n",
              "          0.9216, 0.0471, 0.0000, 0.0000],\n",
              "         [0.0000, 0.0000, 0.0000, 0.0000, 0.0000, 0.0000, 0.0000, 0.0000,\n",
              "          0.0000, 0.0000, 0.0000, 0.0000, 0.0000, 0.0000, 0.3451, 0.9098,\n",
              "          0.9451, 0.8902, 0.8039, 0.9059, 0.8824, 0.8824, 0.8039, 0.7098,\n",
              "          0.8980, 0.0627, 0.0000, 0.0039],\n",
              "         [0.0000, 0.0000, 0.0000, 0.0000, 0.0000, 0.0000, 0.0000, 0.0000,\n",
              "          0.0000, 0.0000, 0.0000, 0.0039, 0.0000, 0.0000, 0.7569, 0.5843,\n",
              "          0.7412, 0.7020, 0.9333, 0.8784, 0.8196, 0.8510, 0.8275, 0.7647,\n",
              "          0.9490, 0.4431, 0.0000, 0.0000],\n",
              "         [0.0000, 0.0000, 0.0000, 0.0000, 0.0000, 0.0000, 0.0000, 0.0000,\n",
              "          0.0000, 0.0000, 0.0078, 0.0000, 0.0000, 0.2275, 0.8941, 0.6431,\n",
              "          0.7451, 1.0000, 0.9647, 0.8510, 0.8353, 0.8235, 0.8078, 0.8000,\n",
              "          0.8275, 0.7412, 0.0000, 0.0000],\n",
              "         [0.0000, 0.0000, 0.0000, 0.0000, 0.0000, 0.0000, 0.0000, 0.0000,\n",
              "          0.0000, 0.0039, 0.0000, 0.0000, 0.4745, 0.9294, 0.3608, 0.8902,\n",
              "          0.9412, 0.9059, 0.8745, 0.9020, 0.8314, 0.7686, 0.8314, 0.7882,\n",
              "          0.7686, 0.8941, 0.0000, 0.0000],\n",
              "         [0.0000, 0.0000, 0.0000, 0.0000, 0.0000, 0.0000, 0.0000, 0.0000,\n",
              "          0.0000, 0.0000, 0.0000, 0.0510, 0.8314, 0.9098, 0.8588, 0.7529,\n",
              "          0.9843, 0.8863, 0.9176, 0.9137, 0.8078, 0.7647, 0.7686, 0.7490,\n",
              "          0.7490, 0.9294, 0.1333, 0.0000],\n",
              "         [0.0000, 0.0000, 0.0000, 0.0000, 0.0000, 0.0000, 0.0000, 0.0000,\n",
              "          0.0196, 0.0000, 0.0000, 0.6980, 0.8549, 0.8549, 0.8667, 0.8980,\n",
              "          0.8980, 0.9059, 0.9098, 0.9137, 0.8745, 0.7922, 0.7725, 0.7333,\n",
              "          0.6745, 0.8157, 0.4471, 0.0000],\n",
              "         [0.0078, 0.0039, 0.0078, 0.0157, 0.0078, 0.0118, 0.0157, 0.0235,\n",
              "          0.0000, 0.0000, 0.3216, 0.9529, 0.8941, 0.8706, 0.8863, 0.9451,\n",
              "          0.8314, 0.9255, 0.9176, 0.9176, 0.8235, 0.7412, 0.7686, 0.6588,\n",
              "          0.6314, 0.7882, 0.7569, 0.0000],\n",
              "         [0.0039, 0.0118, 0.0000, 0.0000, 0.0000, 0.0000, 0.0000, 0.0000,\n",
              "          0.0000, 0.3098, 0.7255, 0.6627, 0.9176, 0.8902, 0.9529, 0.8902,\n",
              "          0.8431, 0.8980, 0.8510, 0.8627, 0.8314, 0.8235, 0.8627, 0.7647,\n",
              "          0.6863, 0.7451, 0.8627, 0.0667],\n",
              "         [0.0000, 0.0000, 0.0000, 0.0039, 0.0000, 0.0000, 0.0863, 0.3765,\n",
              "          0.5255, 0.5373, 0.7020, 0.7020, 0.8549, 0.9059, 0.8706, 0.8431,\n",
              "          0.9255, 0.9490, 0.8980, 0.9059, 0.8980, 0.9059, 0.9098, 0.8902,\n",
              "          0.8157, 0.7647, 0.8980, 0.1569],\n",
              "         [0.0000, 0.1843, 0.5059, 0.6118, 0.6706, 0.6980, 0.6627, 0.5216,\n",
              "          0.1882, 0.0941, 0.7451, 0.7686, 0.9804, 0.9608, 0.8510, 0.8549,\n",
              "          0.8627, 0.8039, 0.7373, 0.7725, 0.7490, 0.7294, 0.7451, 0.7804,\n",
              "          0.8157, 0.7961, 0.8118, 0.0000],\n",
              "         [0.0000, 0.7098, 0.7451, 0.5020, 0.1333, 0.0000, 0.0000, 0.0000,\n",
              "          0.1529, 0.4039, 0.5647, 0.7137, 0.8157, 1.0000, 0.9373, 0.8157,\n",
              "          0.6902, 0.6431, 0.6863, 0.7608, 0.7882, 0.8157, 0.8431, 0.8118,\n",
              "          0.8000, 0.8353, 0.8784, 0.0118],\n",
              "         [0.0353, 0.7294, 0.8824, 0.9098, 0.9569, 0.8667, 0.9451, 1.0000,\n",
              "          1.0000, 0.9255, 1.0000, 0.9804, 0.9490, 0.8902, 0.7725, 0.7294,\n",
              "          0.8118, 0.9059, 0.9765, 0.9216, 0.9059, 0.8941, 0.8314, 0.7804,\n",
              "          0.7255, 0.7451, 0.9176, 0.1451],\n",
              "         [0.4235, 0.8980, 0.7765, 0.7569, 0.8118, 0.8902, 0.8941, 0.8667,\n",
              "          0.8863, 0.9020, 0.8745, 0.8392, 0.7882, 0.8275, 0.8667, 0.9176,\n",
              "          0.9451, 1.0000, 0.8863, 0.9020, 0.8588, 0.8784, 0.8902, 0.9412,\n",
              "          0.9098, 0.7608, 0.8510, 0.1098],\n",
              "         [0.0196, 0.6863, 0.8706, 0.9059, 0.8471, 0.8275, 0.8118, 0.8431,\n",
              "          0.8353, 0.8431, 0.8471, 0.8510, 0.8941, 0.9294, 0.9255, 0.9765,\n",
              "          0.6471, 0.2275, 0.0000, 0.9216, 0.9333, 0.9137, 0.8980, 0.8902,\n",
              "          0.8549, 0.7686, 0.8039, 0.2471],\n",
              "         [0.0000, 0.0000, 0.0784, 0.4784, 0.8039, 0.9529, 1.0000, 1.0000,\n",
              "          1.0000, 1.0000, 1.0000, 1.0000, 0.9333, 0.7216, 0.3451, 0.0000,\n",
              "          0.0000, 0.0000, 0.0000, 1.0000, 0.9529, 0.8902, 1.0000, 1.0000,\n",
              "          0.9725, 0.9059, 0.9412, 0.3451],\n",
              "         [0.0000, 0.0000, 0.0000, 0.0000, 0.0000, 0.0000, 0.1373, 0.2471,\n",
              "          0.3176, 0.3333, 0.2667, 0.1412, 0.0000, 0.0000, 0.0000, 0.0000,\n",
              "          0.0000, 0.0000, 0.0000, 0.3725, 0.2941, 0.2196, 0.2235, 0.1529,\n",
              "          0.0627, 0.0078, 0.0000, 0.0000],\n",
              "         [0.0000, 0.0000, 0.0000, 0.0000, 0.0000, 0.0000, 0.0000, 0.0000,\n",
              "          0.0000, 0.0000, 0.0000, 0.0000, 0.0000, 0.0000, 0.0000, 0.0000,\n",
              "          0.0000, 0.0000, 0.0000, 0.0000, 0.0000, 0.0000, 0.0000, 0.0000,\n",
              "          0.0000, 0.0000, 0.0000, 0.0000],\n",
              "         [0.0000, 0.0000, 0.0000, 0.0000, 0.0000, 0.0000, 0.0000, 0.0000,\n",
              "          0.0000, 0.0000, 0.0000, 0.0000, 0.0000, 0.0000, 0.0000, 0.0000,\n",
              "          0.0000, 0.0000, 0.0000, 0.0000, 0.0000, 0.0000, 0.0000, 0.0000,\n",
              "          0.0000, 0.0000, 0.0000, 0.0000]]])"
            ]
          },
          "metadata": {},
          "execution_count": 18
        }
      ]
    },
    {
      "cell_type": "markdown",
      "source": [
        "### 심층신경망 생성\n",
        "ConvNEt이 적용되지 않은 네트워크\n",
        "\n",
        "**nn.Module** : 클래스 형태의 모델은 항상 torch.nn.Module을 상속받음"
      ],
      "metadata": {
        "id": "_5Pug_B8-wQ7"
      }
    },
    {
      "cell_type": "code",
      "source": [
        "class FashionDNN(nn.Module):\n",
        "  def __init__(self):\n",
        "    super(FashionDNN, self).__init__()\n",
        "    self.fc1 = nn.Linear(in_features=784, out_features=256)\n",
        "    self.drop = nn.Dropout(0.25)\n",
        "    self.fc2 = nn.Linear(in_features=256, out_features=128)\n",
        "    self.fc3 = nn.Linear(in_features=128, out_features=10)\n",
        "\n",
        "  def forward(self, input_data):\n",
        "    out = input_data.view(-1, 784)\n",
        "    out = F.relu(self.fc1(out))\n",
        "    out = self.drop(out)\n",
        "    out = F.relu(self.fc2(out))\n",
        "    out = self.fc3(out)\n",
        "    return out\n"
      ],
      "metadata": {
        "id": "4HQcCH2B8vLv"
      },
      "execution_count": 21,
      "outputs": []
    },
    {
      "cell_type": "code",
      "source": [
        "learning_rate = 0.001;\n",
        "model = FashionDNN();\n",
        "model.to(device)\n",
        "\n",
        "criterion = nn.CrossEntropyLoss() ; # loss function for classification\n",
        "optimizer = torch.optim.Adam(model.parameters(), lr=learning_rate);\n",
        "print(model)"
      ],
      "metadata": {
        "colab": {
          "base_uri": "https://localhost:8080/"
        },
        "id": "IUv1fMYhA_kD",
        "outputId": "cf189404-1cea-4b98-b8ce-3543d0c6e88e"
      },
      "execution_count": 23,
      "outputs": [
        {
          "output_type": "stream",
          "name": "stdout",
          "text": [
            "FashionDNN(\n",
            "  (fc1): Linear(in_features=784, out_features=256, bias=True)\n",
            "  (drop): Dropout(p=0.25, inplace=False)\n",
            "  (fc2): Linear(in_features=256, out_features=128, bias=True)\n",
            "  (fc3): Linear(in_features=128, out_features=10, bias=True)\n",
            ")\n"
          ]
        }
      ]
    },
    {
      "cell_type": "code",
      "source": [
        "num_epochs =5\n",
        "count = 0\n",
        "loss_list = []\n",
        "iteration_list = []\n",
        "accuracy_list = []\n",
        "\n",
        "predictions_list = []\n",
        "labels_list = []\n",
        "\n",
        "for epoch in range(num_epochs):\n",
        "  for images, labels in train_loader:\n",
        "    images, labels = images.to(device), labels.to(device)\n",
        "\n",
        "    train = Variable(images.view(100, 1, 28, 28))\n",
        "    labels = Variable(labels)\n",
        "\n",
        "    outputs = model(train) # apply train data to model\n",
        "    loss = criterion(outputs, labels)\n",
        "    optimizer.zero_grad()\n",
        "    loss.backward()\n",
        "    optimizer.step()\n",
        "    count += 1\n",
        "\n",
        "    if not (count % 50):\n",
        "      total = 0\n",
        "      correct = 0\n",
        "      for images, labels in test_loader:\n",
        "        images, labels = images.to(device), labels.to(device)\n",
        "        labels_list.append(labels)\n",
        "\n",
        "        test = Variable(images.view(100,1,28,28))\n",
        "        outputs = model(test)\n",
        "        predictions = torch.max(outputs, 1)[1].to(device)\n",
        "        predictions_list.append(predictions)\n",
        "\n",
        "        correct += (predictions == labels).sum()\n",
        "        total += len(labels)\n",
        "\n",
        "      accuracy = correct * 100 / total\n",
        "      loss_list.append(loss.data)\n",
        "      iteration_list.append(count)\n",
        "      accuracy_list.append(accuracy)\n",
        "\n",
        "    if not (count % 500):\n",
        "      print (\"Iteration: {}, Loss: {}, Accuracy: {}%\".format(count, loss.data, accuracy))"
      ],
      "metadata": {
        "colab": {
          "base_uri": "https://localhost:8080/"
        },
        "id": "r3614SRUBUKI",
        "outputId": "71af7de4-5d08-4408-8503-4708d91f91cb"
      },
      "execution_count": 25,
      "outputs": [
        {
          "output_type": "stream",
          "name": "stdout",
          "text": [
            "Iteration: 500, Loss: 0.5819472670555115, Accuracy: 83.22999572753906%\n",
            "Iteration: 1000, Loss: 0.551327645778656, Accuracy: 84.90999603271484%\n",
            "Iteration: 1500, Loss: 0.3675464391708374, Accuracy: 84.58999633789062%\n",
            "Iteration: 2000, Loss: 0.39740055799484253, Accuracy: 85.43000030517578%\n",
            "Iteration: 2500, Loss: 0.2453778237104416, Accuracy: 85.80999755859375%\n",
            "Iteration: 3000, Loss: 0.3394513726234436, Accuracy: 86.3699951171875%\n"
          ]
        }
      ]
    },
    {
      "cell_type": "code",
      "source": [
        "len(test_loader)"
      ],
      "metadata": {
        "colab": {
          "base_uri": "https://localhost:8080/"
        },
        "id": "48s9gBK9D91j",
        "outputId": "1cb64fcc-fefe-4a84-86b8-b8122b2b772d"
      },
      "execution_count": 27,
      "outputs": [
        {
          "output_type": "execute_result",
          "data": {
            "text/plain": [
              "100"
            ]
          },
          "metadata": {},
          "execution_count": 27
        }
      ]
    },
    {
      "cell_type": "markdown",
      "source": [
        "## 합성곱 신경망 생성"
      ],
      "metadata": {
        "id": "tOK0Is4ZIFNi"
      }
    },
    {
      "cell_type": "code",
      "source": [
        "class FashionCNN(nn.Module):\n",
        "  def __init__(self):\n",
        "    super(FashionCNN, self).__init__()\n",
        "    self.layer1 = nn.Sequential(\n",
        "        nn.Conv2d(in_channels=1, out_channels=32, kernel_size=3, padding=1 ),\n",
        "        nn.BatchNorm2d(32),\n",
        "        nn.ReLU(),\n",
        "        nn.MaxPool2d(kernel_size=2, stride=2)\n",
        "    )\n",
        "\n",
        "    self.layer2 = nn.Sequential(\n",
        "        nn.Conv2d(in_channels=32, out_channels=64, kernel_size=3),\n",
        "        nn.BatchNorm2d(64),\n",
        "        nn.ReLU(),\n",
        "        nn.MaxPool2d(2)\n",
        "    )\n",
        "\n",
        "    self.fc1 = nn.Linear(in_features=64*6*6, out_features = 600)\n",
        "    self.drop = nn.Dropout2d(0.25)\n",
        "    self.fc2 = nn.Linear(in_features = 600, out_features = 120 )\n",
        "    self.fc3 = nn.Linear(in_features = 120, out_features = 10 ) # 'out_features' means the number of class in final layer\n",
        "\n",
        "  def forward(self, x):\n",
        "    out = self.layer1(x)\n",
        "    out = self.layer2(out)\n",
        "    out = out.view(out.size(0), -1) # (100, ?) -> Data type convert to 1st dimension since layer changed Conv layer to fully connected layer\n",
        "    out = self.fc1(out)\n",
        "    out = self.drop(out)\n",
        "    out = self.fc2(out)\n",
        "    out = self.fc3(out)\n",
        "\n",
        "    return out\n",
        "\n"
      ],
      "metadata": {
        "id": "WfmQl-CGGIEn"
      },
      "execution_count": 28,
      "outputs": []
    },
    {
      "cell_type": "code",
      "source": [
        "learning_rate = 0.001;\n",
        "model = FashionCNN();\n",
        "model.to(device)\n",
        "\n",
        "criterion = nn.CrossEntropyLoss();\n",
        "optimizer = torch.optim.Adam(model.parameters(), lr=learning_rate);\n",
        "print(model)"
      ],
      "metadata": {
        "colab": {
          "base_uri": "https://localhost:8080/"
        },
        "id": "xSnhsjjwLq2i",
        "outputId": "62abc53d-f5dc-462b-ee41-52355ba2f303"
      },
      "execution_count": 29,
      "outputs": [
        {
          "output_type": "stream",
          "name": "stdout",
          "text": [
            "FashionCNN(\n",
            "  (layer1): Sequential(\n",
            "    (0): Conv2d(1, 32, kernel_size=(3, 3), stride=(1, 1), padding=(1, 1))\n",
            "    (1): BatchNorm2d(32, eps=1e-05, momentum=0.1, affine=True, track_running_stats=True)\n",
            "    (2): ReLU()\n",
            "    (3): MaxPool2d(kernel_size=2, stride=2, padding=0, dilation=1, ceil_mode=False)\n",
            "  )\n",
            "  (layer2): Sequential(\n",
            "    (0): Conv2d(32, 64, kernel_size=(3, 3), stride=(1, 1))\n",
            "    (1): BatchNorm2d(64, eps=1e-05, momentum=0.1, affine=True, track_running_stats=True)\n",
            "    (2): ReLU()\n",
            "    (3): MaxPool2d(kernel_size=2, stride=2, padding=0, dilation=1, ceil_mode=False)\n",
            "  )\n",
            "  (fc1): Linear(in_features=2304, out_features=600, bias=True)\n",
            "  (drop): Dropout2d(p=0.25, inplace=False)\n",
            "  (fc2): Linear(in_features=600, out_features=120, bias=True)\n",
            "  (fc3): Linear(in_features=120, out_features=10, bias=True)\n",
            ")\n"
          ]
        }
      ]
    },
    {
      "cell_type": "code",
      "source": [
        "num_epochs =5\n",
        "count = 0\n",
        "loss_list = []\n",
        "iteration_list = []\n",
        "accuracy_list = []\n",
        "\n",
        "predictions_list = []\n",
        "labels_list = []\n",
        "\n",
        "for epoch in range(num_epochs):\n",
        "  for images, labels in train_loader:\n",
        "    images, labels = images.to(device), labels.to(device)\n",
        "\n",
        "    train = Variable(images.view(100, 1, 28, 28))\n",
        "    labels = Variable(labels)\n",
        "\n",
        "    outputs = model(train) # apply train data to model\n",
        "    loss = criterion(outputs, labels)\n",
        "    optimizer.zero_grad()\n",
        "    loss.backward()\n",
        "    optimizer.step()\n",
        "    count += 1\n",
        "\n",
        "    if not (count % 50):\n",
        "      total = 0\n",
        "      correct = 0\n",
        "      for images, labels in test_loader:\n",
        "        images, labels = images.to(device), labels.to(device)\n",
        "        labels_list.append(labels)\n",
        "\n",
        "        test = Variable(images.view(100,1,28,28))\n",
        "        outputs = model(test)\n",
        "        predictions = torch.max(outputs, 1)[1].to(device)\n",
        "        predictions_list.append(predictions)\n",
        "\n",
        "        correct += (predictions == labels).sum()\n",
        "        total += len(labels)\n",
        "\n",
        "      accuracy = correct * 100 / total\n",
        "      loss_list.append(loss.data)\n",
        "      iteration_list.append(count)\n",
        "      accuracy_list.append(accuracy)\n",
        "\n",
        "    if not (count % 500):\n",
        "      print (\"Iteration: {}, Loss: {}, Accuracy: {}%\".format(count, loss.data, accuracy))"
      ],
      "metadata": {
        "colab": {
          "base_uri": "https://localhost:8080/"
        },
        "id": "Cpyi0aMyPWzE",
        "outputId": "2dc2e4fb-708e-4a47-891e-68bd1a39e5ce"
      },
      "execution_count": 30,
      "outputs": [
        {
          "output_type": "stream",
          "name": "stderr",
          "text": [
            "/usr/local/lib/python3.10/dist-packages/torch/nn/functional.py:1347: UserWarning: dropout2d: Received a 2-D input to dropout2d, which is deprecated and will result in an error in a future release. To retain the behavior and silence this warning, please use dropout instead. Note that dropout2d exists to provide channel-wise dropout on inputs with 2 spatial dimensions, a channel dimension, and an optional batch dimension (i.e. 3D or 4D inputs).\n",
            "  warnings.warn(warn_msg)\n"
          ]
        },
        {
          "output_type": "stream",
          "name": "stdout",
          "text": [
            "Iteration: 500, Loss: 0.5159629583358765, Accuracy: 88.47000122070312%\n",
            "Iteration: 1000, Loss: 0.3486194312572479, Accuracy: 86.94999694824219%\n",
            "Iteration: 1500, Loss: 0.28130125999450684, Accuracy: 89.93999481201172%\n",
            "Iteration: 2000, Loss: 0.21478401124477386, Accuracy: 89.38999938964844%\n",
            "Iteration: 2500, Loss: 0.15888231992721558, Accuracy: 89.27999877929688%\n",
            "Iteration: 3000, Loss: 0.2030787467956543, Accuracy: 90.45999908447266%\n"
          ]
        }
      ]
    },
    {
      "cell_type": "code",
      "source": [],
      "metadata": {
        "id": "u5aj4gBSQyYG"
      },
      "execution_count": null,
      "outputs": []
    }
  ]
}